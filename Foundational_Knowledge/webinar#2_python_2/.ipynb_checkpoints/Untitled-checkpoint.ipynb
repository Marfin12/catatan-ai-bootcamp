{
 "cells": [
  {
   "cell_type": "code",
   "execution_count": 72,
   "id": "2489d83c-c986-48bd-b91a-e5a50f7a48af",
   "metadata": {},
   "outputs": [],
   "source": [
    "nama_siswa = [\"Afif\", \"Bobby\", \"Chandra\"]"
   ]
  },
  {
   "cell_type": "code",
   "execution_count": 73,
   "id": "d501bcc3-f9bb-4d9f-ba08-e986d651a0f4",
   "metadata": {},
   "outputs": [
    {
     "data": {
      "text/plain": [
       "'Afif'"
      ]
     },
     "execution_count": 73,
     "metadata": {},
     "output_type": "execute_result"
    }
   ],
   "source": [
    "nama_siswa[0]"
   ]
  },
  {
   "cell_type": "code",
   "execution_count": 74,
   "id": "66e811f1-f780-44c6-98f1-02c12de0b64a",
   "metadata": {},
   "outputs": [
    {
     "data": {
      "text/plain": [
       "'Chandra'"
      ]
     },
     "execution_count": 74,
     "metadata": {},
     "output_type": "execute_result"
    }
   ],
   "source": [
    "nama_siswa[-1]"
   ]
  },
  {
   "cell_type": "code",
   "execution_count": 76,
   "id": "2e68aeed-8d7b-4899-ab5d-deb1fad47db5",
   "metadata": {},
   "outputs": [
    {
     "data": {
      "text/plain": [
       "['Bobby', 'Chandra', 'dony', 'Dony']"
      ]
     },
     "execution_count": 76,
     "metadata": {},
     "output_type": "execute_result"
    }
   ],
   "source": [
    "nama_siswa.append(\"Dony\")\n",
    "nama_siswa\n",
    "nama_siswa.remove(\"Afif\")\n",
    "nama_siswa"
   ]
  },
  {
   "cell_type": "code",
   "execution_count": 78,
   "id": "cc4fda97-82ff-4733-8dec-7fca78d4c9f8",
   "metadata": {},
   "outputs": [
    {
     "ename": "AttributeError",
     "evalue": "'tuple' object has no attribute 'append'",
     "output_type": "error",
     "traceback": [
      "\u001b[0;31m---------------------------------------------------------------------------\u001b[0m",
      "\u001b[0;31mAttributeError\u001b[0m                            Traceback (most recent call last)",
      "\u001b[0;32m/var/folders/s7/r9fnbpl50ybgw5n17052g04m0000gn/T/ipykernel_86934/1928745054.py\u001b[0m in \u001b[0;36m<module>\u001b[0;34m\u001b[0m\n\u001b[1;32m      1\u001b[0m \u001b[0mnama_siswa\u001b[0m \u001b[0;34m=\u001b[0m \u001b[0;34m(\u001b[0m\u001b[0;34m\"Afif\"\u001b[0m\u001b[0;34m,\u001b[0m \u001b[0;34m\"Bobi\"\u001b[0m\u001b[0;34m,\u001b[0m \u001b[0;34m\"Chandra\"\u001b[0m\u001b[0;34m)\u001b[0m\u001b[0;34m\u001b[0m\u001b[0;34m\u001b[0m\u001b[0m\n\u001b[0;32m----> 2\u001b[0;31m \u001b[0mnama_siswa\u001b[0m\u001b[0;34m.\u001b[0m\u001b[0mappend\u001b[0m\u001b[0;34m(\u001b[0m\u001b[0;34m\"Dony\"\u001b[0m\u001b[0;34m)\u001b[0m\u001b[0;34m\u001b[0m\u001b[0;34m\u001b[0m\u001b[0m\n\u001b[0m\u001b[1;32m      3\u001b[0m \u001b[0mnama_siswa\u001b[0m\u001b[0;34m.\u001b[0m\u001b[0mremove\u001b[0m\u001b[0;34m(\u001b[0m\u001b[0;34m\"Afif\"\u001b[0m\u001b[0;34m)\u001b[0m\u001b[0;34m\u001b[0m\u001b[0;34m\u001b[0m\u001b[0m\n",
      "\u001b[0;31mAttributeError\u001b[0m: 'tuple' object has no attribute 'append'"
     ]
    }
   ],
   "source": [
    "nama_siswa = (\"Afif\", \"Bobi\", \"Chandra\")\n",
    "nama_siswa.append(\"Dony\")\n",
    "nama_siswa.remove(\"Afif\")"
   ]
  },
  {
   "cell_type": "code",
   "execution_count": 79,
   "id": "3b4cb0f9-1b17-4f17-81ca-724710366fe8",
   "metadata": {},
   "outputs": [
    {
     "ename": "TypeError",
     "evalue": "'tuple' object does not support item assignment",
     "output_type": "error",
     "traceback": [
      "\u001b[0;31m---------------------------------------------------------------------------\u001b[0m",
      "\u001b[0;31mTypeError\u001b[0m                                 Traceback (most recent call last)",
      "\u001b[0;32m/var/folders/s7/r9fnbpl50ybgw5n17052g04m0000gn/T/ipykernel_86934/824662171.py\u001b[0m in \u001b[0;36m<module>\u001b[0;34m\u001b[0m\n\u001b[1;32m      1\u001b[0m \u001b[0mnama_siswa\u001b[0m \u001b[0;34m=\u001b[0m \u001b[0;34m(\u001b[0m\u001b[0;34m\"Afif\"\u001b[0m\u001b[0;34m,\u001b[0m \u001b[0;34m\"Bobi\"\u001b[0m\u001b[0;34m,\u001b[0m \u001b[0;34m\"Chandra\"\u001b[0m\u001b[0;34m,\u001b[0m \u001b[0;34m\"Dedi\"\u001b[0m\u001b[0;34m)\u001b[0m\u001b[0;34m\u001b[0m\u001b[0;34m\u001b[0m\u001b[0m\n\u001b[0;32m----> 2\u001b[0;31m \u001b[0mnama_siswa\u001b[0m\u001b[0;34m[\u001b[0m\u001b[0;36m0\u001b[0m\u001b[0;34m]\u001b[0m \u001b[0;34m=\u001b[0m \u001b[0;34m\"Andi\"\u001b[0m\u001b[0;34m\u001b[0m\u001b[0;34m\u001b[0m\u001b[0m\n\u001b[0m",
      "\u001b[0;31mTypeError\u001b[0m: 'tuple' object does not support item assignment"
     ]
    }
   ],
   "source": [
    "nama_siswa = (\"Afif\", \"Bobi\", \"Chandra\", \"Dedi\")\n",
    "nama_siswa[0] = \"Andi\""
   ]
  },
  {
   "cell_type": "code",
   "execution_count": 80,
   "id": "d0ccc135-d8af-4363-ae61-1b544040ee04",
   "metadata": {},
   "outputs": [],
   "source": [
    "list_1 = [1,2,3]\n",
    "list_2 = list_1"
   ]
  },
  {
   "cell_type": "code",
   "execution_count": 81,
   "id": "a69073bb-db8e-46d4-a787-76613f9ea8ec",
   "metadata": {},
   "outputs": [
    {
     "data": {
      "text/plain": [
       "[100, 2, 3, 'afif']"
      ]
     },
     "execution_count": 81,
     "metadata": {},
     "output_type": "execute_result"
    }
   ],
   "source": [
    "list_1[0] = 100\n",
    "list_1.append(\"afif\")\n",
    "list_2"
   ]
  },
  {
   "cell_type": "code",
   "execution_count": 1,
   "id": "f946dc95-2315-45aa-a330-cc27628dfa2a",
   "metadata": {
    "tags": []
   },
   "outputs": [
    {
     "name": "stdout",
     "output_type": "stream",
     "text": [
      "Common hobbies: {'cooking'}\n",
      "All hobbies: {'reading', 'cooking', 'painting', 'hiking', 'cycling'}\n"
     ]
    }
   ],
   "source": [
    "# Creating sets of unique hobbies for two people\n",
    "hobbies_alice = {\"reading\", \"hiking\", \"cooking\"}\n",
    "hobbies_bob = {\"cooking\", \"painting\", \"cycling\"}\n",
    "\n",
    "# Finding common hobbies\n",
    "common_hobbies = hobbies_alice.intersection(hobbies_bob)\n",
    "print(\"Common hobbies:\", common_hobbies)\n",
    "\n",
    "# Finding the union of hobbies\n",
    "all_hobbies = hobbies_alice.union(hobbies_bob)\n",
    "print(\"All hobbies:\", all_hobbies)"
   ]
  },
  {
   "cell_type": "code",
   "execution_count": 83,
   "id": "3c41d5e0-89bb-419f-89e1-fe51d236fec4",
   "metadata": {},
   "outputs": [],
   "source": [
    "hobbies_alice = {\"reading\", \"hiking\", \"cooking\",\"cooking\",\"cooking\",\"cooking\",\"cooking\",\"cooking\",\"cooking\",\"cooking\"}"
   ]
  },
  {
   "cell_type": "code",
   "execution_count": 84,
   "id": "6fa2ca50-b872-42bd-9dd2-b66bf70e3d1e",
   "metadata": {},
   "outputs": [
    {
     "data": {
      "text/plain": [
       "{'cooking', 'hiking', 'reading'}"
      ]
     },
     "execution_count": 84,
     "metadata": {},
     "output_type": "execute_result"
    }
   ],
   "source": [
    "hobbies_alice"
   ]
  },
  {
   "cell_type": "code",
   "execution_count": 2,
   "id": "1b346cb0-574b-4eb2-9414-5597c5a62ace",
   "metadata": {
    "tags": []
   },
   "outputs": [
    {
     "name": "stdout",
     "output_type": "stream",
     "text": [
      "Alice is 21 years old\n",
      "Bob is 22 years old\n",
      "Charlie is 21 years old\n",
      "David is 23 years old\n"
     ]
    }
   ],
   "source": [
    "# Creating a dictionary that maps student names to their ages\n",
    "student_ages = {\"Alice\": 20, \"Bob\": 22, \"Charlie\": 21}\n",
    "\n",
    "# Adding a new student to the dictionary\n",
    "student_ages[\"David\"] = 23\n",
    "\n",
    "# Updating a student's age\n",
    "student_ages[\"Alice\"] = 21\n",
    "\n",
    "# Iterating through the dictionary and printing student names and ages\n",
    "for name, age in student_ages.items():\n",
    "    print(name, \"is\", age, \"years old\")"
   ]
  },
  {
   "cell_type": "code",
   "execution_count": null,
   "id": "64a5c09a-9e26-4698-ac2f-dbafccb5a009",
   "metadata": {},
   "outputs": [],
   "source": [
    "for name in student_ages.keys():\n",
    "    print(name, \"is\", age, \"years old\")"
   ]
  },
  {
   "cell_type": "markdown",
   "id": "0dd6dc8c-d874-4ab6-9d4d-76188a8225bd",
   "metadata": {},
   "source": [
    "<h1>Membuat Modul</h1>"
   ]
  },
  {
   "cell_type": "code",
   "execution_count": 1,
   "id": "e1dd82ab-64b3-47a9-8e6d-4fb48cd734b1",
   "metadata": {},
   "outputs": [],
   "source": [
    "import kalkulator"
   ]
  },
  {
   "cell_type": "code",
   "execution_count": 2,
   "id": "8665166f-9794-4521-8ccc-f67a3e55595b",
   "metadata": {},
   "outputs": [
    {
     "data": {
      "text/plain": [
       "3.1415"
      ]
     },
     "execution_count": 2,
     "metadata": {},
     "output_type": "execute_result"
    }
   ],
   "source": [
    "kalkulator.PI"
   ]
  },
  {
   "cell_type": "code",
   "execution_count": 3,
   "id": "d99c7886-d41e-4dcb-8894-adcca92a15a6",
   "metadata": {},
   "outputs": [
    {
     "data": {
      "text/plain": [
       "150"
      ]
     },
     "execution_count": 3,
     "metadata": {},
     "output_type": "execute_result"
    }
   ],
   "source": [
    "kalkulator.jumlah(100,50)"
   ]
  },
  {
   "cell_type": "code",
   "execution_count": null,
   "id": "392de228-b287-4a3e-8390-50b559d5dd53",
   "metadata": {},
   "outputs": [],
   "source": [
    "import kalkulator as kal\n",
    "kal.PI"
   ]
  },
  {
   "cell_type": "code",
   "execution_count": 70,
   "id": "55540acf-64e1-4d00-a713-bfcdd34128eb",
   "metadata": {},
   "outputs": [],
   "source": [
    "from kalkulator import PI, jumlah\n",
    "PI\n",
    "jumlah(100,50)\n",
    "PI = 0"
   ]
  },
  {
   "cell_type": "markdown",
   "id": "2afd4b94-e692-4f38-b7ae-3c455a3ac560",
   "metadata": {},
   "source": [
    "## Berinteraksi dengan data"
   ]
  },
  {
   "cell_type": "code",
   "execution_count": 61,
   "id": "940be171-1ca7-47fd-bb00-06782d9be8c4",
   "metadata": {},
   "outputs": [
    {
     "data": {
      "text/plain": [
       "'Indonesia tanah airku\\nTanah tumpah darahku\\n'"
      ]
     },
     "execution_count": 61,
     "metadata": {},
     "output_type": "execute_result"
    }
   ],
   "source": [
    "f = open(\"data.txt\")\n",
    "f.read()"
   ]
  },
  {
   "cell_type": "code",
   "execution_count": 62,
   "id": "51c84321-f12f-4519-9c2a-ec43dc043ada",
   "metadata": {
    "tags": []
   },
   "outputs": [],
   "source": [
    "f.close()"
   ]
  },
  {
   "cell_type": "code",
   "execution_count": 54,
   "id": "2c6743fd-4f91-4c15-b89b-a410c7ce98a7",
   "metadata": {},
   "outputs": [
    {
     "name": "stdout",
     "output_type": "stream",
     "text": [
      "Indonesia tanah airku\n",
      "Tanah tumpah darahku\n",
      "\n"
     ]
    }
   ],
   "source": [
    "with open(\"data.txt\") as data_file:\n",
    "    print(data_file.read())"
   ]
  },
  {
   "cell_type": "code",
   "execution_count": 64,
   "id": "091f8914-376d-45f9-a5c6-a2384a2d025d",
   "metadata": {},
   "outputs": [],
   "source": [
    "f = open(\"data.txt\")"
   ]
  },
  {
   "cell_type": "code",
   "execution_count": 65,
   "id": "16c0ab86-0a98-45a1-8387-24a6c66ccebe",
   "metadata": {
    "tags": []
   },
   "outputs": [
    {
     "data": {
      "text/plain": [
       "'Indonesia tanah airku\\n'"
      ]
     },
     "execution_count": 65,
     "metadata": {},
     "output_type": "execute_result"
    }
   ],
   "source": [
    "f.readline()"
   ]
  },
  {
   "cell_type": "code",
   "execution_count": 66,
   "id": "7ca7fc89-3a11-42ec-9a5f-977923142cdc",
   "metadata": {
    "tags": []
   },
   "outputs": [
    {
     "data": {
      "text/plain": [
       "'Tanah tumpah darahku\\n'"
      ]
     },
     "execution_count": 66,
     "metadata": {},
     "output_type": "execute_result"
    }
   ],
   "source": [
    "f.readline()"
   ]
  },
  {
   "cell_type": "code",
   "execution_count": 67,
   "id": "2cded81f-1f29-4c97-ada2-104b6be0c517",
   "metadata": {
    "tags": []
   },
   "outputs": [
    {
     "data": {
      "text/plain": [
       "''"
      ]
     },
     "execution_count": 67,
     "metadata": {},
     "output_type": "execute_result"
    }
   ],
   "source": [
    "f.readline()"
   ]
  },
  {
   "cell_type": "code",
   "execution_count": 68,
   "id": "da44b7ee-5bfc-41db-a168-e515de500ce0",
   "metadata": {
    "tags": []
   },
   "outputs": [],
   "source": [
    "f = open(\"data.txt\")"
   ]
  },
  {
   "cell_type": "code",
   "execution_count": 69,
   "id": "44d9f5a9-ce59-4dc2-aa61-cee1ea242776",
   "metadata": {},
   "outputs": [
    {
     "data": {
      "text/plain": [
       "3"
      ]
     },
     "execution_count": 69,
     "metadata": {},
     "output_type": "execute_result"
    }
   ],
   "source": [
    "line = f.readline()\n",
    "count = 1\n",
    "while line != '':\n",
    "    count += 1\n",
    "    line = f.readline()\n",
    "count"
   ]
  },
  {
   "cell_type": "code",
   "execution_count": 49,
   "id": "b9fc75b9-47d9-46b7-844a-55dacc5b121a",
   "metadata": {
    "tags": []
   },
   "outputs": [],
   "source": [
    "with open(\"data.txt\", \"a\") as data_file:\n",
    "    data_file.write(\"disanalah aku berdiri\")\n",
    "# close file data.txt untuk lihat perubahan \n",
    "with open(\"data.txt\", \"w\") as data_file:\n",
    "    data_file.write(\"disanalah aku berdiri\")\n",
    "# w = replace, a = append"
   ]
  },
  {
   "cell_type": "code",
   "execution_count": null,
   "id": "9c90353b-04f0-4d3c-8239-94907cc658a7",
   "metadata": {},
   "outputs": [],
   "source": [
    "import csv\n",
    "\n",
    "input_file = 'users.csv'\n",
    "output_file = 'filtered_users.csv'\n",
    "\n",
    "with open(input_file, 'r') as infile, open(output_file, 'w', newline='') as outfile:\n",
    "    csv_reader = csv.DictReader(infile)\n",
    "    fieldnames = csv_reader.fieldnames\n",
    "\n",
    "    csv_writer = csv.DictWriter(outfile, fieldnames=fieldnames)\n",
    "    csv_writer.writeheader()\n",
    "\n",
    "    for row in csv_reader:\n",
    "        if int(row['age']) >= 30:\n",
    "            csv_writer.writerow(row)"
   ]
  },
  {
   "cell_type": "code",
   "execution_count": 4,
   "id": "6941806d-060b-4f87-9cac-5421e230c904",
   "metadata": {
    "tags": []
   },
   "outputs": [
    {
     "data": {
      "text/plain": [
       "['user_id', 'name', 'email', 'age']"
      ]
     },
     "execution_count": 4,
     "metadata": {},
     "output_type": "execute_result"
    }
   ],
   "source": [
    "import csv\n",
    "\n",
    "csv_reader = csv.DictReader(myfile)\n",
    "csv_reader.fieldnames"
   ]
  },
  {
   "cell_type": "code",
   "execution_count": 9,
   "id": "5dab3cbd-37c0-4888-aba9-768921d85724",
   "metadata": {
    "tags": []
   },
   "outputs": [
    {
     "data": {
      "text/plain": [
       "[OrderedDict([('user_id', '1'),\n",
       "              ('name', 'John Doe'),\n",
       "              ('email', 'johndoe@example.com'),\n",
       "              ('age', '32')]),\n",
       " OrderedDict([('user_id', '2'),\n",
       "              ('name', 'Jane Smith'),\n",
       "              ('email', 'janesmith@example.com'),\n",
       "              ('age', '28')]),\n",
       " OrderedDict([('user_id', '3'),\n",
       "              ('name', 'James Brown'),\n",
       "              ('email', 'jamesbrown@example.com'),\n",
       "              ('age', '55')])]"
      ]
     },
     "execution_count": 9,
     "metadata": {},
     "output_type": "execute_result"
    }
   ],
   "source": [
    "list(csv_reader)"
   ]
  },
  {
   "cell_type": "markdown",
   "id": "ba5cf8f0-e41f-4255-9966-0434abe9b0db",
   "metadata": {},
   "source": [
    "## Kelas"
   ]
  },
  {
   "cell_type": "code",
   "execution_count": 42,
   "id": "2ad9ec95-b049-4a5c-bce7-128740b23747",
   "metadata": {
    "tags": []
   },
   "outputs": [],
   "source": [
    "class Mahasiswa:\n",
    "    def __init__(self, nama, usia):\n",
    "        self.nama = nama\n",
    "        self.usia = usia\n",
    "        self.ipk = 0\n",
    "\n",
    "    def calculate_ipk(self, ip):\n",
    "        if self.ipk == 0:\n",
    "            self.ipk = ip\n",
    "        else:\n",
    "            self.ipk += ip\n",
    "            self.ipk /= 2"
   ]
  },
  {
   "cell_type": "code",
   "execution_count": 43,
   "id": "634bf615-6af0-4d15-b078-4b4abe75d0da",
   "metadata": {
    "tags": []
   },
   "outputs": [],
   "source": [
    "mahasiswa_1 = Mahasiswa(\"Afif\", 20)\n",
    "mahasiswa_2 = Mahasiswa(\"Budi\", 19)"
   ]
  },
  {
   "cell_type": "code",
   "execution_count": 44,
   "id": "4394be92-399c-4bef-84ab-0eba0c23198e",
   "metadata": {
    "tags": []
   },
   "outputs": [
    {
     "data": {
      "text/plain": [
       "0"
      ]
     },
     "execution_count": 44,
     "metadata": {},
     "output_type": "execute_result"
    }
   ],
   "source": [
    "mahasiswa_1.ipk"
   ]
  },
  {
   "cell_type": "code",
   "execution_count": 45,
   "id": "b2792fed-60e7-4c61-aa56-d3e3a24a8085",
   "metadata": {
    "tags": []
   },
   "outputs": [],
   "source": [
    "mahasiswa_1.calculate_ipk(4)"
   ]
  },
  {
   "cell_type": "code",
   "execution_count": 46,
   "id": "b6edf906-c54c-4186-9353-1be7babbb01c",
   "metadata": {
    "tags": []
   },
   "outputs": [
    {
     "data": {
      "text/plain": [
       "4"
      ]
     },
     "execution_count": 46,
     "metadata": {},
     "output_type": "execute_result"
    }
   ],
   "source": [
    "mahasiswa_1.ipk"
   ]
  },
  {
   "cell_type": "code",
   "execution_count": 47,
   "id": "6a2e474c-98f7-4d48-92af-d7fdd0e6976d",
   "metadata": {
    "tags": []
   },
   "outputs": [],
   "source": [
    "mahasiswa_1.calculate_ipk(3.5)"
   ]
  },
  {
   "cell_type": "code",
   "execution_count": 48,
   "id": "0c16835b-7251-4d7b-b5a5-4a8aa40b2e1b",
   "metadata": {
    "tags": []
   },
   "outputs": [
    {
     "data": {
      "text/plain": [
       "3.75"
      ]
     },
     "execution_count": 48,
     "metadata": {},
     "output_type": "execute_result"
    }
   ],
   "source": [
    "mahasiswa_1.ipk"
   ]
  },
  {
   "cell_type": "code",
   "execution_count": null,
   "id": "771d830e-72d8-43a7-81c7-951afed8cb82",
   "metadata": {},
   "outputs": [],
   "source": []
  }
 ],
 "metadata": {
  "kernelspec": {
   "display_name": "Python 3 (ipykernel)",
   "language": "python",
   "name": "python3"
  },
  "language_info": {
   "codemirror_mode": {
    "name": "ipython",
    "version": 3
   },
   "file_extension": ".py",
   "mimetype": "text/x-python",
   "name": "python",
   "nbconvert_exporter": "python",
   "pygments_lexer": "ipython3",
   "version": "3.7.9"
  }
 },
 "nbformat": 4,
 "nbformat_minor": 5
}
